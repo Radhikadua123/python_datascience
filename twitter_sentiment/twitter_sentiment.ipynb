{
  "nbformat": 4,
  "nbformat_minor": 0,
  "metadata": {
    "colab": {
      "name": "twitter_sentiment.ipynb",
      "version": "0.3.2",
      "views": {},
      "default_view": {},
      "provenance": []
    },
    "kernelspec": {
      "name": "python3",
      "display_name": "Python 3"
    },
    "accelerator": "GPU"
  },
  "cells": [
    {
      "metadata": {
        "id": "Wr8l7sL5TWgS",
        "colab_type": "code",
        "colab": {
          "autoexec": {
            "startup": false,
            "wait_interval": 0
          },
          "output_extras": [
            {
              "item_id": 6
            }
          ],
          "base_uri": "https://localhost:8080/",
          "height": 347
        },
        "outputId": "f716d493-3f00-4aaf-f173-a9b9d9191b42",
        "executionInfo": {
          "status": "ok",
          "timestamp": 1521826092346,
          "user_tz": -330,
          "elapsed": 4864,
          "user": {
            "displayName": "Radhika Dua",
            "photoUrl": "//lh5.googleusercontent.com/-cNc0wW8Lckg/AAAAAAAAAAI/AAAAAAAAG5U/08TmYFVbosY/s50-c-k-no/photo.jpg",
            "userId": "105189358300007094605"
          }
        }
      },
      "cell_type": "code",
      "source": [
        "!pip install tweepy"
      ],
      "execution_count": 1,
      "outputs": [
        {
          "output_type": "stream",
          "text": [
            "Collecting tweepy\n",
            "  Downloading tweepy-3.6.0-py2.py3-none-any.whl\n",
            "Requirement already satisfied: six>=1.10.0 in /usr/local/lib/python3.6/dist-packages (from tweepy)\n",
            "Requirement already satisfied: requests>=2.11.1 in /usr/local/lib/python3.6/dist-packages (from tweepy)\n",
            "Collecting PySocks>=1.5.7 (from tweepy)\n",
            "  Downloading PySocks-1.6.8.tar.gz (283kB)\n",
            "\u001b[K    100% |████████████████████████████████| 286kB 2.4MB/s \n",
            "\u001b[?25hRequirement already satisfied: requests-oauthlib>=0.7.0 in /usr/local/lib/python3.6/dist-packages (from tweepy)\n",
            "Requirement already satisfied: idna<2.7,>=2.5 in /usr/local/lib/python3.6/dist-packages (from requests>=2.11.1->tweepy)\n",
            "Requirement already satisfied: chardet<3.1.0,>=3.0.2 in /usr/local/lib/python3.6/dist-packages (from requests>=2.11.1->tweepy)\n",
            "Requirement already satisfied: certifi>=2017.4.17 in /usr/local/lib/python3.6/dist-packages (from requests>=2.11.1->tweepy)\n",
            "Requirement already satisfied: urllib3<1.23,>=1.21.1 in /usr/local/lib/python3.6/dist-packages (from requests>=2.11.1->tweepy)\n",
            "Requirement already satisfied: oauthlib>=0.6.2 in /usr/local/lib/python3.6/dist-packages (from requests-oauthlib>=0.7.0->tweepy)\n",
            "Building wheels for collected packages: PySocks\n",
            "  Running setup.py bdist_wheel for PySocks ... \u001b[?25l-\b \bdone\n",
            "\u001b[?25h  Stored in directory: /content/.cache/pip/wheels/77/f0/00/52f304b7dddcca8fca05ad1226382134ad50ba6c1662d7539e\n",
            "Successfully built PySocks\n",
            "Installing collected packages: PySocks, tweepy\n",
            "Successfully installed PySocks-1.6.8 tweepy-3.6.0\n"
          ],
          "name": "stdout"
        }
      ]
    },
    {
      "metadata": {
        "id": "x96mu4x4U8jO",
        "colab_type": "text"
      },
      "cell_type": "markdown",
      "source": [
        ""
      ]
    },
    {
      "metadata": {
        "id": "L7jPXHgdTdLQ",
        "colab_type": "code",
        "colab": {
          "autoexec": {
            "startup": false,
            "wait_interval": 0
          },
          "output_extras": [
            {
              "item_id": 3
            }
          ],
          "base_uri": "https://localhost:8080/",
          "height": 121
        },
        "outputId": "d834b657-450d-4b38-cba7-6226c8feecab",
        "executionInfo": {
          "status": "ok",
          "timestamp": 1521826099510,
          "user_tz": -330,
          "elapsed": 3832,
          "user": {
            "displayName": "Radhika Dua",
            "photoUrl": "//lh5.googleusercontent.com/-cNc0wW8Lckg/AAAAAAAAAAI/AAAAAAAAG5U/08TmYFVbosY/s50-c-k-no/photo.jpg",
            "userId": "105189358300007094605"
          }
        }
      },
      "cell_type": "code",
      "source": [
        "!pip install textblob\n"
      ],
      "execution_count": 2,
      "outputs": [
        {
          "output_type": "stream",
          "text": [
            "Collecting textblob\n",
            "  Downloading textblob-0.15.1-py2.py3-none-any.whl (631kB)\n",
            "\u001b[K    100% |████████████████████████████████| 634kB 1.4MB/s \n",
            "\u001b[?25hRequirement already satisfied: nltk>=3.1 in /usr/local/lib/python3.6/dist-packages (from textblob)\n",
            "Installing collected packages: textblob\n",
            "Successfully installed textblob-0.15.1\n"
          ],
          "name": "stdout"
        }
      ]
    },
    {
      "metadata": {
        "id": "QdRT0TddTooo",
        "colab_type": "code",
        "colab": {
          "autoexec": {
            "startup": false,
            "wait_interval": 0
          }
        }
      },
      "cell_type": "code",
      "source": [
        "from textblob import TextBlob"
      ],
      "execution_count": 0,
      "outputs": []
    },
    {
      "metadata": {
        "id": "TUMADQqlTuwK",
        "colab_type": "code",
        "colab": {
          "autoexec": {
            "startup": false,
            "wait_interval": 0
          }
        }
      },
      "cell_type": "code",
      "source": [
        "wiki = TextBlob(\"Isha and Radhika are the best sisters in the world.They are made for each other\")"
      ],
      "execution_count": 0,
      "outputs": []
    },
    {
      "metadata": {
        "id": "Xp6R003-UW_s",
        "colab_type": "code",
        "colab": {
          "autoexec": {
            "startup": false,
            "wait_interval": 0
          },
          "output_extras": [
            {
              "item_id": 1
            }
          ],
          "base_uri": "https://localhost:8080/",
          "height": 34
        },
        "outputId": "920758c4-2b1f-4dfd-80c9-dfd4a2efde01",
        "executionInfo": {
          "status": "ok",
          "timestamp": 1521826108736,
          "user_tz": -330,
          "elapsed": 970,
          "user": {
            "displayName": "Radhika Dua",
            "photoUrl": "//lh5.googleusercontent.com/-cNc0wW8Lckg/AAAAAAAAAAI/AAAAAAAAG5U/08TmYFVbosY/s50-c-k-no/photo.jpg",
            "userId": "105189358300007094605"
          }
        }
      },
      "cell_type": "code",
      "source": [
        "wiki.sentiment.polarity"
      ],
      "execution_count": 5,
      "outputs": [
        {
          "output_type": "execute_result",
          "data": {
            "text/plain": [
              "0.4375"
            ]
          },
          "metadata": {
            "tags": []
          },
          "execution_count": 5
        }
      ]
    },
    {
      "metadata": {
        "id": "BUHV2E20Ubni",
        "colab_type": "code",
        "colab": {
          "autoexec": {
            "startup": false,
            "wait_interval": 0
          }
        }
      },
      "cell_type": "code",
      "source": [
        "consumer_key =  'Nr2vK51NYUBIFEGxBdGWkbhmK'"
      ],
      "execution_count": 0,
      "outputs": []
    },
    {
      "metadata": {
        "id": "jkGgIL9JVmgW",
        "colab_type": "code",
        "colab": {
          "autoexec": {
            "startup": false,
            "wait_interval": 0
          }
        }
      },
      "cell_type": "code",
      "source": [
        "consumer_secret =  '0a5rVGVqgZ2NddmplFBg9wHHjdw8GWqhI0DfYTbh5HHaOizDqG'"
      ],
      "execution_count": 0,
      "outputs": []
    },
    {
      "metadata": {
        "id": "y-1S3ThKWHZc",
        "colab_type": "code",
        "colab": {
          "autoexec": {
            "startup": false,
            "wait_interval": 0
          }
        }
      },
      "cell_type": "code",
      "source": [
        "access_token = '4821708358-KmwsYR2fpNas53Z2D6CiMtI1TB6V9hJfaxMc6JS'"
      ],
      "execution_count": 0,
      "outputs": []
    },
    {
      "metadata": {
        "id": "6ZOXU_WuWRCu",
        "colab_type": "code",
        "colab": {
          "autoexec": {
            "startup": false,
            "wait_interval": 0
          }
        }
      },
      "cell_type": "code",
      "source": [
        "access_token_secret =  'jllAxZXxNNwvDrwmT0TSqel5RUY1vtrP9GDhX1XFE1gJw'"
      ],
      "execution_count": 0,
      "outputs": []
    },
    {
      "metadata": {
        "id": "RF7kjEOcWjEc",
        "colab_type": "code",
        "colab": {
          "autoexec": {
            "startup": false,
            "wait_interval": 0
          }
        }
      },
      "cell_type": "code",
      "source": [
        "auth = OAuthHandler(consumer_key,consumer_secret)"
      ],
      "execution_count": 0,
      "outputs": []
    },
    {
      "metadata": {
        "id": "cpyMH4JfXOPy",
        "colab_type": "code",
        "colab": {
          "autoexec": {
            "startup": false,
            "wait_interval": 0
          }
        }
      },
      "cell_type": "code",
      "source": [
        "from tweepy import OAuthHandler"
      ],
      "execution_count": 0,
      "outputs": []
    },
    {
      "metadata": {
        "id": "xkzlsD9YYBiK",
        "colab_type": "code",
        "colab": {
          "autoexec": {
            "startup": false,
            "wait_interval": 0
          }
        }
      },
      "cell_type": "code",
      "source": [
        "auth.set_access_token(access_token, access_token_secret)"
      ],
      "execution_count": 0,
      "outputs": []
    },
    {
      "metadata": {
        "id": "HmiIUzIv6K2W",
        "colab_type": "code",
        "colab": {
          "autoexec": {
            "startup": false,
            "wait_interval": 0
          }
        }
      },
      "cell_type": "code",
      "source": [
        "api = API(auth)"
      ],
      "execution_count": 0,
      "outputs": []
    },
    {
      "metadata": {
        "id": "Wr4uzBZ96TbI",
        "colab_type": "code",
        "colab": {
          "autoexec": {
            "startup": false,
            "wait_interval": 0
          }
        }
      },
      "cell_type": "code",
      "source": [
        "from tweepy import API"
      ],
      "execution_count": 0,
      "outputs": []
    },
    {
      "metadata": {
        "id": "wzw86yZ46elW",
        "colab_type": "code",
        "colab": {
          "autoexec": {
            "startup": false,
            "wait_interval": 0
          }
        }
      },
      "cell_type": "code",
      "source": [
        "public_tweets = api.search('Trump')"
      ],
      "execution_count": 0,
      "outputs": []
    },
    {
      "metadata": {
        "id": "nPvwNjkH6vHI",
        "colab_type": "code",
        "colab": {
          "autoexec": {
            "startup": false,
            "wait_interval": 0
          },
          "output_extras": [
            {
              "item_id": 1
            }
          ],
          "base_uri": "https://localhost:8080/",
          "height": 573
        },
        "outputId": "3cd54363-ff2e-49cf-9c71-2c8246878d67",
        "executionInfo": {
          "status": "ok",
          "timestamp": 1521826501288,
          "user_tz": -330,
          "elapsed": 928,
          "user": {
            "displayName": "Radhika Dua",
            "photoUrl": "//lh5.googleusercontent.com/-cNc0wW8Lckg/AAAAAAAAAAI/AAAAAAAAG5U/08TmYFVbosY/s50-c-k-no/photo.jpg",
            "userId": "105189358300007094605"
          }
        }
      },
      "cell_type": "code",
      "source": [
        "for tweet in public_tweets:\n",
        "    print (tweet.text)\n",
        "    analysis = TextBlob(tweet.text)\n",
        "    print(analysis.sentiment)"
      ],
      "execution_count": 20,
      "outputs": [
        {
          "output_type": "stream",
          "text": [
            "RT @BeltwayPundit: If @realDonaldTrump talks to #Mueller it is purely a trap.  Trump's advisors should ensure he declines to do so.\n",
            "Sentiment(polarity=0.21428571428571427, subjectivity=0.5)\n",
            "RT @quin_edward: Republican senator finally admits why his party won’t stand up to Trump https://t.co/3ATkRataqM #SmartNews\n",
            "Sentiment(polarity=0.0, subjectivity=1.0)\n",
            "Exploiting America’s Tribal Warfare Is Donald Trump’s Survival Strategy https://t.co/O1SIf96jZq #StopRush… https://t.co/F2LakgNahf\n",
            "Sentiment(polarity=0.0, subjectivity=0.0)\n",
            "RT @LiberalLecter: Everyday, there is a new woman coming out saying she slept with Trump &amp; he paid her off and or threatened physical harm…\n",
            "Sentiment(polarity=-0.02121212121212122, subjectivity=0.39913419913419906)\n",
            "RT @washingtonpost: Analysis: Hate crimes rose the day after Trump was elected, FBI data show https://t.co/GPN5w1hyAN\n",
            "Sentiment(polarity=-0.10000000000000003, subjectivity=0.925)\n",
            "Trump is a piece of shit who doesn't understand how congress works, but I super hope that if he DOES push them to g… https://t.co/iiBMOfw6DN\n",
            "Sentiment(polarity=0.06666666666666665, subjectivity=0.7333333333333334)\n",
            "Trump trade guru Peter Navarro pledges no trade war: 'We come in peace' https://t.co/nizNgXEzzs\n",
            "Sentiment(polarity=0.0, subjectivity=0.0)\n",
            "So Donald Trump's veto threat was just talk, huh? Fancy that.\n",
            "Sentiment(polarity=0.0, subjectivity=0.0)\n",
            "@realDonaldTrump @CNNPolitics @MSNBC Has Trump completely lost his mind??  Trump does not belong in the WH!  Trump… https://t.co/sQutk17y8g\n",
            "Sentiment(polarity=0.125, subjectivity=0.4)\n",
            "Trump now admitting he’s signing a bill that nobody ready that he doesn’t like. Beautiful.\n",
            "Sentiment(polarity=0.525, subjectivity=0.75)\n",
            "RT @SafetyPinDaily: Bolton Denies Promising Trump He 'Wouldn't Start Any Wars' | By Eric Levitz https://t.co/xHZ7FPQQ1n\n",
            "Sentiment(polarity=0.2, subjectivity=0.5)\n",
            "Trump today: I will never sign a bill like this again.\n",
            "\n",
            "Trump next year: I will sign this bill.\n",
            "Sentiment(polarity=0.0, subjectivity=0.0)\n",
            "RT @didikins4life: “After reports that the president was scheming to replace his wife, the Fox talk show host lobbied heavily for the job”…\n",
            "Sentiment(polarity=-0.2, subjectivity=0.5)\n",
            "RT @rolandscahill: Two days ago, Melania Trump launched her cyber bullying campaign, and this morning, her husband cyber bullied Joe Biden.\n",
            "Sentiment(polarity=0.0, subjectivity=0.0)\n",
            "RT @eddiejmccoven: Pres. Trump may veto bill because #DEMS ignored #DACA recipients and because #BorderWall not fully funded. https://t.co/…\n",
            "Sentiment(polarity=0.0, subjectivity=0.0)\n"
          ],
          "name": "stdout"
        }
      ]
    },
    {
      "metadata": {
        "id": "lPoCXVPa7Y1k",
        "colab_type": "code",
        "colab": {
          "autoexec": {
            "startup": false,
            "wait_interval": 0
          }
        }
      },
      "cell_type": "code",
      "source": [
        ""
      ],
      "execution_count": 0,
      "outputs": []
    }
  ]
}